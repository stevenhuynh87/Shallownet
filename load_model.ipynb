{
 "cells": [
  {
   "cell_type": "code",
   "execution_count": 2,
   "metadata": {},
   "outputs": [],
   "source": [
    "# import thư viện cần thiết\n",
    "from preprocessing.imagetoarraypreprocessor import ImageToArrayPreprocessor\n",
    "from preprocessing.simplepreprocessor import SimplePreprocessor\n",
    "from datasets.simpledatasetloader import SimpleDatasetLoader\n",
    "from keras.models import load_model\n",
    "from imutils import paths\n",
    "import numpy as np\n",
    "import cv2"
   ]
  },
  {
   "cell_type": "code",
   "execution_count": 4,
   "metadata": {},
   "outputs": [
    {
     "name": "stdout",
     "output_type": "stream",
     "text": [
      "[INFO] Import images for classification...\n"
     ]
    }
   ],
   "source": [
    "# Khởi tạo danh sách nhãn\n",
    "classLabels = [\"cat\", \"dog\", \"panda\"]\n",
    "\n",
    "print(\"[INFO] Import images for classification...\")\n",
    "imagePaths = np.array(list(paths.list_images(\"image\"))) # tạo danh sách đường dẫn đến file ảnh trong folder image\n",
    "idxs = np.random.randint(0, len(imagePaths), size=(10,)) # Trả về 5 số nguyên ngẫu nhiên tương ứng với đường dẫn đến file ảnh\n",
    "imagePaths = imagePaths[idxs] # Tạo danh sách chứa 10 số nguyên ngẫu nhiên"
   ]
  },
  {
   "cell_type": "code",
   "execution_count": 5,
   "metadata": {},
   "outputs": [],
   "source": [
    "# Khởi tạo tiền xử lý các file ảnh\n",
    "sp = SimplePreprocessor(32, 32) # Thiết lập kích thước ảnh 32 x 32\n",
    "iap = ImageToArrayPreprocessor() # Gọi hàm để chuyển ảnh sang mảng"
   ]
  },
  {
   "cell_type": "code",
   "execution_count": 6,
   "metadata": {},
   "outputs": [],
   "source": [
    "# Nạp ảnh rồi chuyển mức xám của pixel trong vùng [0,1]\n",
    "sdl = SimpleDatasetLoader(preprocessors=[sp, iap])\n",
    "(data, labels) = sdl.load(imagePaths)\n",
    "data = data.astype(\"float\") / 255.0"
   ]
  },
  {
   "cell_type": "code",
   "execution_count": 7,
   "metadata": {},
   "outputs": [
    {
     "name": "stderr",
     "output_type": "stream",
     "text": [
      "WARNING:absl:Compiled the loaded model, but the compiled metrics have yet to be built. `model.compile_metrics` will be empty until you train or evaluate the model.\n"
     ]
    },
    {
     "name": "stdout",
     "output_type": "stream",
     "text": [
      "[INFO] Import pre-trained model...\n"
     ]
    }
   ],
   "source": [
    "# load model đã được train\n",
    "print(\"[INFO] Import pre-trained model...\")\n",
    "model = load_model(\"model.hdf5\")"
   ]
  },
  {
   "cell_type": "code",
   "execution_count": 8,
   "metadata": {},
   "outputs": [
    {
     "name": "stdout",
     "output_type": "stream",
     "text": [
      "[INFO] Predicting for classification...\n",
      "\u001b[1m1/1\u001b[0m \u001b[32m━━━━━━━━━━━━━━━━━━━━\u001b[0m\u001b[37m\u001b[0m \u001b[1m0s\u001b[0m 53ms/step\n"
     ]
    }
   ],
   "source": [
    "# Dự đoán\n",
    "print(\"[INFO] Predicting for classification...\")\n",
    "preds = model.predict(data, batch_size=32).argmax(axis=1)"
   ]
  },
  {
   "cell_type": "code",
   "execution_count": 9,
   "metadata": {},
   "outputs": [
    {
     "name": "stderr",
     "output_type": "stream",
     "text": [
      "2024-10-26 18:56:47.584 Python[4251:138855] +[IMKClient subclass]: chose IMKClient_Legacy\n",
      "2024-10-26 18:56:47.584 Python[4251:138855] +[IMKInputSession subclass]: chose IMKInputSession_Legacy\n"
     ]
    }
   ],
   "source": [
    "# Lặp qua tất cả các file ảnh trong imagePaths và thực hiện trên từng ảnh, gồm:\n",
    "# Nạp ảnh --> tạo label dự đoán trên ảnh --> Hiển thị ảnh\n",
    "for (i, imagePath) in enumerate(imagePaths):\n",
    "    # Đọc file ảnh\n",
    "    image = cv2.imread(imagePath)\n",
    "    # Vẽ label dự đoán lên ảnh\n",
    "    cv2.putText(image, \"label: {}\".format(classLabels[preds[i]]), (10, 30), cv2.FONT_HERSHEY_SIMPLEX, 0.7, (0, 255, 0), 2)\n",
    "    # Hiển thị ảnh\n",
    "    cv2.imshow(\"Image\", image)\n",
    "    cv2.waitKey(0)"
   ]
  }
 ],
 "metadata": {
  "kernelspec": {
   "display_name": ".venv",
   "language": "python",
   "name": "python3"
  },
  "language_info": {
   "codemirror_mode": {
    "name": "ipython",
    "version": 3
   },
   "file_extension": ".py",
   "mimetype": "text/x-python",
   "name": "python",
   "nbconvert_exporter": "python",
   "pygments_lexer": "ipython3",
   "version": "3.12.5"
  }
 },
 "nbformat": 4,
 "nbformat_minor": 2
}
